{
  "nbformat": 4,
  "nbformat_minor": 0,
  "metadata": {
    "colab": {
      "provenance": [],
      "authorship_tag": "ABX9TyOujMmZkZ5sSFIiM9bPOU91",
      "include_colab_link": true
    },
    "kernelspec": {
      "name": "python3",
      "display_name": "Python 3"
    },
    "language_info": {
      "name": "python"
    }
  },
  "cells": [
    {
      "cell_type": "markdown",
      "metadata": {
        "id": "view-in-github",
        "colab_type": "text"
      },
      "source": [
        "<a href=\"https://colab.research.google.com/github/krishnadixit05/Google-Colab/blob/main/Data_Preprocessing.ipynb\" target=\"_parent\"><img src=\"https://colab.research.google.com/assets/colab-badge.svg\" alt=\"Open In Colab\"/></a>"
      ]
    },
    {
      "cell_type": "code",
      "execution_count": null,
      "metadata": {
        "id": "4tBpLtQ4HsZ5",
        "colab": {
          "base_uri": "https://localhost:8080/"
        },
        "outputId": "2fa7021c-6c5d-4186-adb9-36ab4f9cd5c7"
      },
      "outputs": [
        {
          "output_type": "stream",
          "name": "stdout",
          "text": [
            "Before Preprocessing:\n",
            "   Age  Annual Income (k$)  Spending Score (1-100)\n",
            "0   19                15.0                    39.0\n",
            "1   21                15.0                    81.0\n",
            "2   20                16.0                     6.0\n",
            "3   23                 NaN                    77.0\n",
            "4   31                17.0                     NaN\n"
          ]
        }
      ],
      "source": [
        "import pandas as pd\n",
        "\n",
        "df = pd.read_excel(\"/content/Data prep.xlsx\")\n",
        "\n",
        "# Display the raw data before preprocessing\n",
        "print(\"Before Preprocessing:\")\n",
        "print(df.head())"
      ]
    },
    {
      "cell_type": "code",
      "source": [
        "import pandas as pd\n",
        "from sklearn.impute import SimpleImputer\n",
        "from sklearn.preprocessing import MinMaxScaler\n",
        "\n",
        "\n",
        "# Step 1: Handle Missing Values by Imputation (using median for numerical columns)\n",
        "imputer = SimpleImputer(strategy='median')\n",
        "df['Spending Score (1-100)'] = imputer.fit_transform(df[['Spending Score (1-100)']])\n",
        "df['Annual Income (k$)'] = imputer.fit_transform(df[['Annual Income (k$)']])\n",
        "\n",
        "# Step 2: Remove Outliers\n",
        "df = df[df['Age'] <= 100]\n",
        "\n",
        "# Step 3: Normalize Numerical Features using MinMaxScaler (scaled between 0 and 1)\n",
        "scaler = MinMaxScaler()\n",
        "df[['Age', 'Annual Income (k$)', 'Spending Score (1-100)']] = scaler.fit_transform(df[['Age', 'Annual Income (k$)', 'Spending Score (1-100)']])\n",
        "\n",
        "# Display the preprocessed data\n",
        "print(\"\\nAfter Preprocessing:\")\n",
        "print(df.head())\n"
      ],
      "metadata": {
        "colab": {
          "base_uri": "https://localhost:8080/"
        },
        "id": "-Fdf1E0eLsPJ",
        "outputId": "e80de360-f92a-4edc-f658-35c6ac04fbd1"
      },
      "execution_count": null,
      "outputs": [
        {
          "output_type": "stream",
          "name": "stdout",
          "text": [
            "\n",
            "After Preprocessing:\n",
            "        Age  Annual Income (k$)  Spending Score (1-100)\n",
            "0  0.019231            0.000000                0.387755\n",
            "1  0.057692            0.000000                0.816327\n",
            "2  0.038462            0.008197                0.051020\n",
            "3  0.096154            0.385246                0.775510\n",
            "4  0.250000            0.016393                0.500000\n"
          ]
        }
      ]
    },
    {
      "cell_type": "code",
      "source": [],
      "metadata": {
        "id": "KiEj61erRnN3"
      },
      "execution_count": null,
      "outputs": []
    },
    {
      "cell_type": "code",
      "execution_count": null,
      "metadata": {
        "colab": {
          "base_uri": "https://localhost:8080/"
        },
        "outputId": "47d307a0-f6a0-48fe-d346-72265ebd7582",
        "id": "gPLQz8cCRtT2"
      },
      "outputs": [
        {
          "output_type": "stream",
          "name": "stdout",
          "text": [
            "Before Preprocessing:\n",
            "   X  Y month  day  FFMC   DMC     DC  ISI  temp  RH  wind  rain  area\n",
            "0  7  5   mar  fri  86.2  26.2   94.3  5.1   8.2  51   6.7   0.0   0.0\n",
            "1  7  4   oct  tue  90.6  35.4  669.1  6.7  18.0  33   0.9   0.0   0.0\n",
            "2  7  4   oct  sat  90.6  43.7  686.9  6.7  14.6  33   1.3   0.0   0.0\n",
            "3  8  6   mar  fri  91.7  33.3   77.5  9.0   8.3  97   4.0   0.2   0.0\n",
            "4  8  6   mar  sun  89.3  51.3  102.2  9.6  11.4  99   1.8   0.0   0.0\n"
          ]
        }
      ],
      "source": [
        "import pandas as pd\n",
        "\n",
        "# Before Preprocessing: Original Dataset (without any cleaning or transformation)\n",
        "df = pd.read_csv(\"/content/forestfires.csv\")\n",
        "# df = pd.DataFrame(data)  # This line is causing the error. Removed as df is already assigned in the line above\n",
        "\n",
        "# Display the raw data before preprocessing\n",
        "print(\"Before Preprocessing:\")\n",
        "print(df.head())"
      ]
    },
    {
      "cell_type": "code",
      "source": [
        "import pandas as pd\n",
        "from sklearn.impute import SimpleImputer\n",
        "from sklearn.preprocessing import MinMaxScaler, LabelEncoder\n",
        "\n",
        "# Step 1: Handle Missing Values by Imputation (using median for numerical columns)\n",
        "imputer = SimpleImputer(strategy='median')\n",
        "df[['temp','wind']] = imputer.fit_transform(df[['temp','wind']])\n",
        "\n",
        "# Step 2: Encode Categorical Variables if present (assuming 'month' and 'day' are categorical)\n",
        "encoder = LabelEncoder()\n",
        "df['month'] = encoder.fit_transform(df['month'])\n",
        "df['day'] = encoder.fit_transform(df['day'])\n",
        "\n",
        "# Step 3: Normalize Numerical Features using MinMaxScaler (scaled between 0 and 1)\n",
        "scaler = MinMaxScaler()\n",
        "df[['temp', 'wind']] = scaler.fit_transform(df[['temp','wind']])\n",
        "\n",
        "# Step 4: Optionally, remove any rows with missing values in case of incomplete imputation (if any)\n",
        "df = df.dropna()\n",
        "\n",
        "# Display the preprocessed data\n",
        "print(\"\\nAfter Preprocessing:\")\n",
        "print(df.head())\n"
      ],
      "metadata": {
        "colab": {
          "base_uri": "https://localhost:8080/"
        },
        "id": "_L3t6r2_R2sz",
        "outputId": "83578193-1afd-47e2-f275-487a36875b58"
      },
      "execution_count": null,
      "outputs": [
        {
          "output_type": "stream",
          "name": "stdout",
          "text": [
            "\n",
            "After Preprocessing:\n",
            "   X  Y  month  day  FFMC   DMC     DC  ISI      temp  RH      wind  rain  \\\n",
            "0  7  5      7    0  86.2  26.2   94.3  5.1  0.192926  51  0.700000   0.0   \n",
            "1  7  4     10    5  90.6  35.4  669.1  6.7  0.508039  33  0.055556   0.0   \n",
            "2  7  4     10    2  90.6  43.7  686.9  6.7  0.398714  33  0.100000   0.0   \n",
            "3  8  6      7    0  91.7  33.3   77.5  9.0  0.196141  97  0.400000   0.2   \n",
            "4  8  6      7    3  89.3  51.3  102.2  9.6  0.295820  99  0.155556   0.0   \n",
            "\n",
            "   area  \n",
            "0   0.0  \n",
            "1   0.0  \n",
            "2   0.0  \n",
            "3   0.0  \n",
            "4   0.0  \n"
          ]
        }
      ]
    }
  ]
}