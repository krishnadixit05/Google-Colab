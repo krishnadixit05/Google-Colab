{
  "nbformat": 4,
  "nbformat_minor": 0,
  "metadata": {
    "colab": {
      "provenance": [],
      "authorship_tag": "ABX9TyOANCbkKrbVF3HIwVJnjiRm",
      "include_colab_link": true
    },
    "kernelspec": {
      "name": "python3",
      "display_name": "Python 3"
    },
    "language_info": {
      "name": "python"
    }
  },
  "cells": [
    {
      "cell_type": "markdown",
      "metadata": {
        "id": "view-in-github",
        "colab_type": "text"
      },
      "source": [
        "<a href=\"https://colab.research.google.com/github/krishnadixit05/Google-Colab/blob/main/Lab_3.ipynb\" target=\"_parent\"><img src=\"https://colab.research.google.com/assets/colab-badge.svg\" alt=\"Open In Colab\"/></a>"
      ]
    },
    {
      "cell_type": "markdown",
      "source": [
        "###LAb-3"
      ],
      "metadata": {
        "id": "9UtCO8VSOZWf"
      }
    },
    {
      "cell_type": "code",
      "source": [
        "#import basic libraries\n",
        "import numpy as np\n",
        "import pandas as pd\n",
        "import matplotlib.pyplot as plt"
      ],
      "metadata": {
        "id": "L4rUIepMOYgD"
      },
      "execution_count": null,
      "outputs": []
    },
    {
      "cell_type": "code",
      "source": [
        "col_names = ['area', 'room', 'price']\n",
        "dataset=pd.read_csv(\"https://raw.githubusercontent.com/nishithkotak/machine-learning/master/ex1data2.txt\")"
      ],
      "metadata": {
        "id": "QPl6T5B8EOTH"
      },
      "execution_count": null,
      "outputs": []
    },
    {
      "cell_type": "code",
      "source": [
        "dataset.describe()"
      ],
      "metadata": {
        "colab": {
          "base_uri": "https://localhost:8080/",
          "height": 300
        },
        "id": "J5xR5VoZDuGM",
        "outputId": "1da440c7-ee4a-4c4e-9ac1-fa818aa06f36"
      },
      "execution_count": null,
      "outputs": [
        {
          "output_type": "execute_result",
          "data": {
            "text/plain": [
              "              2104          3         399900\n",
              "count    46.000000  46.000000      46.000000\n",
              "mean   1998.434783   3.173913  339119.456522\n",
              "std     803.333019   0.768963  126103.418369\n",
              "min     852.000000   1.000000  169900.000000\n",
              "25%    1429.500000   3.000000  249900.000000\n",
              "50%    1870.000000   3.000000  299900.000000\n",
              "75%    2284.500000   4.000000  368875.000000\n",
              "max    4478.000000   5.000000  699900.000000"
            ],
            "text/html": [
              "\n",
              "  <div id=\"df-d05d728d-5a9e-4fa7-9b8b-bd26430c8eb5\" class=\"colab-df-container\">\n",
              "    <div>\n",
              "<style scoped>\n",
              "    .dataframe tbody tr th:only-of-type {\n",
              "        vertical-align: middle;\n",
              "    }\n",
              "\n",
              "    .dataframe tbody tr th {\n",
              "        vertical-align: top;\n",
              "    }\n",
              "\n",
              "    .dataframe thead th {\n",
              "        text-align: right;\n",
              "    }\n",
              "</style>\n",
              "<table border=\"1\" class=\"dataframe\">\n",
              "  <thead>\n",
              "    <tr style=\"text-align: right;\">\n",
              "      <th></th>\n",
              "      <th>2104</th>\n",
              "      <th>3</th>\n",
              "      <th>399900</th>\n",
              "    </tr>\n",
              "  </thead>\n",
              "  <tbody>\n",
              "    <tr>\n",
              "      <th>count</th>\n",
              "      <td>46.000000</td>\n",
              "      <td>46.000000</td>\n",
              "      <td>46.000000</td>\n",
              "    </tr>\n",
              "    <tr>\n",
              "      <th>mean</th>\n",
              "      <td>1998.434783</td>\n",
              "      <td>3.173913</td>\n",
              "      <td>339119.456522</td>\n",
              "    </tr>\n",
              "    <tr>\n",
              "      <th>std</th>\n",
              "      <td>803.333019</td>\n",
              "      <td>0.768963</td>\n",
              "      <td>126103.418369</td>\n",
              "    </tr>\n",
              "    <tr>\n",
              "      <th>min</th>\n",
              "      <td>852.000000</td>\n",
              "      <td>1.000000</td>\n",
              "      <td>169900.000000</td>\n",
              "    </tr>\n",
              "    <tr>\n",
              "      <th>25%</th>\n",
              "      <td>1429.500000</td>\n",
              "      <td>3.000000</td>\n",
              "      <td>249900.000000</td>\n",
              "    </tr>\n",
              "    <tr>\n",
              "      <th>50%</th>\n",
              "      <td>1870.000000</td>\n",
              "      <td>3.000000</td>\n",
              "      <td>299900.000000</td>\n",
              "    </tr>\n",
              "    <tr>\n",
              "      <th>75%</th>\n",
              "      <td>2284.500000</td>\n",
              "      <td>4.000000</td>\n",
              "      <td>368875.000000</td>\n",
              "    </tr>\n",
              "    <tr>\n",
              "      <th>max</th>\n",
              "      <td>4478.000000</td>\n",
              "      <td>5.000000</td>\n",
              "      <td>699900.000000</td>\n",
              "    </tr>\n",
              "  </tbody>\n",
              "</table>\n",
              "</div>\n",
              "    <div class=\"colab-df-buttons\">\n",
              "\n",
              "  <div class=\"colab-df-container\">\n",
              "    <button class=\"colab-df-convert\" onclick=\"convertToInteractive('df-d05d728d-5a9e-4fa7-9b8b-bd26430c8eb5')\"\n",
              "            title=\"Convert this dataframe to an interactive table.\"\n",
              "            style=\"display:none;\">\n",
              "\n",
              "  <svg xmlns=\"http://www.w3.org/2000/svg\" height=\"24px\" viewBox=\"0 -960 960 960\">\n",
              "    <path d=\"M120-120v-720h720v720H120Zm60-500h600v-160H180v160Zm220 220h160v-160H400v160Zm0 220h160v-160H400v160ZM180-400h160v-160H180v160Zm440 0h160v-160H620v160ZM180-180h160v-160H180v160Zm440 0h160v-160H620v160Z\"/>\n",
              "  </svg>\n",
              "    </button>\n",
              "\n",
              "  <style>\n",
              "    .colab-df-container {\n",
              "      display:flex;\n",
              "      gap: 12px;\n",
              "    }\n",
              "\n",
              "    .colab-df-convert {\n",
              "      background-color: #E8F0FE;\n",
              "      border: none;\n",
              "      border-radius: 50%;\n",
              "      cursor: pointer;\n",
              "      display: none;\n",
              "      fill: #1967D2;\n",
              "      height: 32px;\n",
              "      padding: 0 0 0 0;\n",
              "      width: 32px;\n",
              "    }\n",
              "\n",
              "    .colab-df-convert:hover {\n",
              "      background-color: #E2EBFA;\n",
              "      box-shadow: 0px 1px 2px rgba(60, 64, 67, 0.3), 0px 1px 3px 1px rgba(60, 64, 67, 0.15);\n",
              "      fill: #174EA6;\n",
              "    }\n",
              "\n",
              "    .colab-df-buttons div {\n",
              "      margin-bottom: 4px;\n",
              "    }\n",
              "\n",
              "    [theme=dark] .colab-df-convert {\n",
              "      background-color: #3B4455;\n",
              "      fill: #D2E3FC;\n",
              "    }\n",
              "\n",
              "    [theme=dark] .colab-df-convert:hover {\n",
              "      background-color: #434B5C;\n",
              "      box-shadow: 0px 1px 3px 1px rgba(0, 0, 0, 0.15);\n",
              "      filter: drop-shadow(0px 1px 2px rgba(0, 0, 0, 0.3));\n",
              "      fill: #FFFFFF;\n",
              "    }\n",
              "  </style>\n",
              "\n",
              "    <script>\n",
              "      const buttonEl =\n",
              "        document.querySelector('#df-d05d728d-5a9e-4fa7-9b8b-bd26430c8eb5 button.colab-df-convert');\n",
              "      buttonEl.style.display =\n",
              "        google.colab.kernel.accessAllowed ? 'block' : 'none';\n",
              "\n",
              "      async function convertToInteractive(key) {\n",
              "        const element = document.querySelector('#df-d05d728d-5a9e-4fa7-9b8b-bd26430c8eb5');\n",
              "        const dataTable =\n",
              "          await google.colab.kernel.invokeFunction('convertToInteractive',\n",
              "                                                    [key], {});\n",
              "        if (!dataTable) return;\n",
              "\n",
              "        const docLinkHtml = 'Like what you see? Visit the ' +\n",
              "          '<a target=\"_blank\" href=https://colab.research.google.com/notebooks/data_table.ipynb>data table notebook</a>'\n",
              "          + ' to learn more about interactive tables.';\n",
              "        element.innerHTML = '';\n",
              "        dataTable['output_type'] = 'display_data';\n",
              "        await google.colab.output.renderOutput(dataTable, element);\n",
              "        const docLink = document.createElement('div');\n",
              "        docLink.innerHTML = docLinkHtml;\n",
              "        element.appendChild(docLink);\n",
              "      }\n",
              "    </script>\n",
              "  </div>\n",
              "\n",
              "\n",
              "<div id=\"df-4523e379-85aa-44e8-bb9a-b584dd35c684\">\n",
              "  <button class=\"colab-df-quickchart\" onclick=\"quickchart('df-4523e379-85aa-44e8-bb9a-b584dd35c684')\"\n",
              "            title=\"Suggest charts\"\n",
              "            style=\"display:none;\">\n",
              "\n",
              "<svg xmlns=\"http://www.w3.org/2000/svg\" height=\"24px\"viewBox=\"0 0 24 24\"\n",
              "     width=\"24px\">\n",
              "    <g>\n",
              "        <path d=\"M19 3H5c-1.1 0-2 .9-2 2v14c0 1.1.9 2 2 2h14c1.1 0 2-.9 2-2V5c0-1.1-.9-2-2-2zM9 17H7v-7h2v7zm4 0h-2V7h2v10zm4 0h-2v-4h2v4z\"/>\n",
              "    </g>\n",
              "</svg>\n",
              "  </button>\n",
              "\n",
              "<style>\n",
              "  .colab-df-quickchart {\n",
              "      --bg-color: #E8F0FE;\n",
              "      --fill-color: #1967D2;\n",
              "      --hover-bg-color: #E2EBFA;\n",
              "      --hover-fill-color: #174EA6;\n",
              "      --disabled-fill-color: #AAA;\n",
              "      --disabled-bg-color: #DDD;\n",
              "  }\n",
              "\n",
              "  [theme=dark] .colab-df-quickchart {\n",
              "      --bg-color: #3B4455;\n",
              "      --fill-color: #D2E3FC;\n",
              "      --hover-bg-color: #434B5C;\n",
              "      --hover-fill-color: #FFFFFF;\n",
              "      --disabled-bg-color: #3B4455;\n",
              "      --disabled-fill-color: #666;\n",
              "  }\n",
              "\n",
              "  .colab-df-quickchart {\n",
              "    background-color: var(--bg-color);\n",
              "    border: none;\n",
              "    border-radius: 50%;\n",
              "    cursor: pointer;\n",
              "    display: none;\n",
              "    fill: var(--fill-color);\n",
              "    height: 32px;\n",
              "    padding: 0;\n",
              "    width: 32px;\n",
              "  }\n",
              "\n",
              "  .colab-df-quickchart:hover {\n",
              "    background-color: var(--hover-bg-color);\n",
              "    box-shadow: 0 1px 2px rgba(60, 64, 67, 0.3), 0 1px 3px 1px rgba(60, 64, 67, 0.15);\n",
              "    fill: var(--button-hover-fill-color);\n",
              "  }\n",
              "\n",
              "  .colab-df-quickchart-complete:disabled,\n",
              "  .colab-df-quickchart-complete:disabled:hover {\n",
              "    background-color: var(--disabled-bg-color);\n",
              "    fill: var(--disabled-fill-color);\n",
              "    box-shadow: none;\n",
              "  }\n",
              "\n",
              "  .colab-df-spinner {\n",
              "    border: 2px solid var(--fill-color);\n",
              "    border-color: transparent;\n",
              "    border-bottom-color: var(--fill-color);\n",
              "    animation:\n",
              "      spin 1s steps(1) infinite;\n",
              "  }\n",
              "\n",
              "  @keyframes spin {\n",
              "    0% {\n",
              "      border-color: transparent;\n",
              "      border-bottom-color: var(--fill-color);\n",
              "      border-left-color: var(--fill-color);\n",
              "    }\n",
              "    20% {\n",
              "      border-color: transparent;\n",
              "      border-left-color: var(--fill-color);\n",
              "      border-top-color: var(--fill-color);\n",
              "    }\n",
              "    30% {\n",
              "      border-color: transparent;\n",
              "      border-left-color: var(--fill-color);\n",
              "      border-top-color: var(--fill-color);\n",
              "      border-right-color: var(--fill-color);\n",
              "    }\n",
              "    40% {\n",
              "      border-color: transparent;\n",
              "      border-right-color: var(--fill-color);\n",
              "      border-top-color: var(--fill-color);\n",
              "    }\n",
              "    60% {\n",
              "      border-color: transparent;\n",
              "      border-right-color: var(--fill-color);\n",
              "    }\n",
              "    80% {\n",
              "      border-color: transparent;\n",
              "      border-right-color: var(--fill-color);\n",
              "      border-bottom-color: var(--fill-color);\n",
              "    }\n",
              "    90% {\n",
              "      border-color: transparent;\n",
              "      border-bottom-color: var(--fill-color);\n",
              "    }\n",
              "  }\n",
              "</style>\n",
              "\n",
              "  <script>\n",
              "    async function quickchart(key) {\n",
              "      const quickchartButtonEl =\n",
              "        document.querySelector('#' + key + ' button');\n",
              "      quickchartButtonEl.disabled = true;  // To prevent multiple clicks.\n",
              "      quickchartButtonEl.classList.add('colab-df-spinner');\n",
              "      try {\n",
              "        const charts = await google.colab.kernel.invokeFunction(\n",
              "            'suggestCharts', [key], {});\n",
              "      } catch (error) {\n",
              "        console.error('Error during call to suggestCharts:', error);\n",
              "      }\n",
              "      quickchartButtonEl.classList.remove('colab-df-spinner');\n",
              "      quickchartButtonEl.classList.add('colab-df-quickchart-complete');\n",
              "    }\n",
              "    (() => {\n",
              "      let quickchartButtonEl =\n",
              "        document.querySelector('#df-4523e379-85aa-44e8-bb9a-b584dd35c684 button');\n",
              "      quickchartButtonEl.style.display =\n",
              "        google.colab.kernel.accessAllowed ? 'block' : 'none';\n",
              "    })();\n",
              "  </script>\n",
              "</div>\n",
              "\n",
              "    </div>\n",
              "  </div>\n"
            ],
            "application/vnd.google.colaboratory.intrinsic+json": {
              "type": "dataframe",
              "summary": "{\n  \"name\": \"dataset\",\n  \"rows\": 8,\n  \"fields\": [\n    {\n      \"column\": \"2104\",\n      \"properties\": {\n        \"dtype\": \"number\",\n        \"std\": 1336.6064914446836,\n        \"min\": 46.0,\n        \"max\": 4478.0,\n        \"num_unique_values\": 8,\n        \"samples\": [\n          1998.4347826086957,\n          1870.0,\n          46.0\n        ],\n        \"semantic_type\": \"\",\n        \"description\": \"\"\n      }\n    },\n    {\n      \"column\": \"3\",\n      \"properties\": {\n        \"dtype\": \"number\",\n        \"std\": 15.320887530420192,\n        \"min\": 0.768963164154231,\n        \"max\": 46.0,\n        \"num_unique_values\": 7,\n        \"samples\": [\n          46.0,\n          3.1739130434782608,\n          4.0\n        ],\n        \"semantic_type\": \"\",\n        \"description\": \"\"\n      }\n    },\n    {\n      \"column\": \"399900\",\n      \"properties\": {\n        \"dtype\": \"number\",\n        \"std\": 208110.10271216216,\n        \"min\": 46.0,\n        \"max\": 699900.0,\n        \"num_unique_values\": 8,\n        \"samples\": [\n          339119.45652173914,\n          299900.0,\n          46.0\n        ],\n        \"semantic_type\": \"\",\n        \"description\": \"\"\n      }\n    }\n  ]\n}"
            }
          },
          "metadata": {},
          "execution_count": 4
        }
      ]
    },
    {
      "cell_type": "code",
      "source": [
        "area=dataset.iloc[:,0:1]\n",
        "rooms=dataset.iloc[:,1:2]\n",
        "price=dataset.iloc[:,2:3]"
      ],
      "metadata": {
        "id": "I9KVCnIAEowa"
      },
      "execution_count": null,
      "outputs": []
    },
    {
      "cell_type": "code",
      "source": [
        "#Feature Normalization\n",
        "def feature_normalization(X):\n",
        "  mean=np.mean(X,axis=0)\n",
        "  std=np.std(X,axis=0)\n",
        "  x_norm=(X-mean)/ std\n",
        "\n",
        "  return x_norm,mean,std"
      ],
      "metadata": {
        "id": "_XOfQkC9FiW6"
      },
      "execution_count": null,
      "outputs": []
    },
    {
      "cell_type": "code",
      "source": [
        "data_norm=dataset.values\n",
        "m=len(data_norm[:,0])"
      ],
      "metadata": {
        "id": "itkdPMNmGE46"
      },
      "execution_count": null,
      "outputs": []
    },
    {
      "cell_type": "code",
      "source": [
        "x_in=data_norm[:,0:2].reshape(m,2)\n",
        "X2,mean_X2,std_X2=feature_normalization(x_in)\n",
        "X2"
      ],
      "metadata": {
        "colab": {
          "base_uri": "https://localhost:8080/"
        },
        "id": "kCOcoQmnGZWp",
        "outputId": "6bba66ad-1c38-42a0-ea93-7c1d0b7754ba"
      },
      "execution_count": null,
      "outputs": [
        {
          "output_type": "execute_result",
          "data": {
            "text/plain": [
              "array([[-5.01457678e-01, -2.28664780e-01],\n",
              "       [ 5.05397546e-01, -2.28664780e-01],\n",
              "       [-7.33034380e-01, -1.54348727e+00],\n",
              "       [ 1.26053896e+00,  1.08615771e+00],\n",
              "       [-1.69086013e-02,  1.08615771e+00],\n",
              "       [-5.84523234e-01, -2.28664780e-01],\n",
              "       [-7.19190120e-01, -2.28664780e-01],\n",
              "       [-7.78342865e-01, -2.28664780e-01],\n",
              "       [-6.34865995e-01, -2.28664780e-01],\n",
              "       [-7.35442077e-02,  1.08615771e+00],\n",
              "       [ 1.96993413e-03, -2.28664780e-01],\n",
              "       [-1.36472659e-01, -2.28664780e-01],\n",
              "       [ 3.12070399e+00,  2.40098019e+00],\n",
              "       [-9.19302596e-01, -2.28664780e-01],\n",
              "       [ 3.79540643e-01,  1.08615771e+00],\n",
              "       [-8.53857006e-01, -1.54348727e+00],\n",
              "       [-9.59576805e-01, -2.28664780e-01],\n",
              "       [ 7.68438474e-01,  1.08615771e+00],\n",
              "       [ 1.29955460e+00,  1.08615771e+00],\n",
              "       [-2.91276650e-01, -2.28664780e-01],\n",
              "       [-1.38989797e-01, -1.54348727e+00],\n",
              "       [-4.96423402e-01, -2.28664780e-01],\n",
              "       [-4.58556890e-02,  1.08615771e+00],\n",
              "       [ 2.38066540e+00, -2.28664780e-01],\n",
              "       [-1.13074219e+00, -2.28664780e-01],\n",
              "       [-6.80174480e-01, -2.28664780e-01],\n",
              "       [ 6.63977244e-01, -2.28664780e-01],\n",
              "       [ 2.53683740e-01, -2.28664780e-01],\n",
              "       [ 8.03678406e-01, -2.28664780e-01],\n",
              "       [-2.00659680e-01, -1.54348727e+00],\n",
              "       [-1.25659910e+00, -2.85830975e+00],\n",
              "       [ 5.23126953e-02,  1.08615771e+00],\n",
              "       [ 1.43296292e+00, -2.28664780e-01],\n",
              "       [-2.35899613e-01,  1.08615771e+00],\n",
              "       [-7.06604430e-01, -2.28664780e-01],\n",
              "       [-9.55801098e-01, -2.28664780e-01],\n",
              "       [ 1.68101046e-01,  1.08615771e+00],\n",
              "       [ 2.78970034e+00,  1.08615771e+00],\n",
              "       [ 2.05858117e-01,  1.08615771e+00],\n",
              "       [-4.20909260e-01, -1.54348727e+00],\n",
              "       [ 3.01509363e-01, -2.28664780e-01],\n",
              "       [ 7.15578574e-01,  1.08615771e+00],\n",
              "       [-1.00488529e+00, -2.28664780e-01],\n",
              "       [-1.44286731e+00, -1.54348727e+00],\n",
              "       [-1.84298282e-01,  1.08615771e+00],\n",
              "       [-1.00110958e+00, -2.28664780e-01]])"
            ]
          },
          "metadata": {},
          "execution_count": 7
        }
      ]
    },
    {
      "cell_type": "code",
      "source": [
        "Y2=data_norm[:,2:3]"
      ],
      "metadata": {
        "id": "UIZa-SvUIeAI"
      },
      "execution_count": null,
      "outputs": []
    },
    {
      "cell_type": "code",
      "source": [
        "#ML Model\n",
        "def hypothesis(theta_array,x1,x2):\n",
        "  return (theta_array[0] + theta_array[1]*x1 + theta_array[2]*x2)"
      ],
      "metadata": {
        "id": "LXDLK_tKIJia"
      },
      "execution_count": null,
      "outputs": []
    },
    {
      "cell_type": "code",
      "source": [
        "def costfunction(theta_array,x1,x2,y,m):\n",
        "  total_cost = 0\n",
        "  for i in range(m):\n",
        "    total_cost+=((theta_array[0]+theta_array[1]*x1[i]+theta_array[2]*x2[i])-y[i])**2\n",
        "  return total_cost/(2*m)"
      ],
      "metadata": {
        "id": "RmRYNCMPIpWa"
      },
      "execution_count": null,
      "outputs": []
    },
    {
      "cell_type": "code",
      "source": [
        "def gradient_descent(theta_array,x1,x2,y,m,alpha):\n",
        "  summation_0=0\n",
        "  summation_1=0\n",
        "  summation_2=0\n",
        "  for i in range(m):\n",
        "    summation_0+=((theta_array[0]+theta_array[1]*x1[i]+theta_array[2]*x2[i])-y[i])\n",
        "    summation_1+=((theta_array[0]+(theta_array[1]*x1[i]+theta_array[2]*x2[i])-y[i])*x1[i])\n",
        "    summation_2+=((theta_array[0]+(theta_array[1]*x1[i]+theta_array[2]*x2[i])-y[i])*x2[i])\n",
        "\n",
        "\n",
        "  new_theta0=theta_array[0] -(summation_0*alpha/m)\n",
        "  new_theta1=theta_array[1] -(summation_1*alpha/m)\n",
        "  new_theta2=theta_array[2] -(summation_2*alpha/m)\n",
        "\n",
        "  improvised_theta=[new_theta0,new_theta1,new_theta2]\n",
        "  #print(improvised_theta)\n",
        "  return improvised_theta"
      ],
      "metadata": {
        "id": "2rujIDvCJEiK"
      },
      "execution_count": null,
      "outputs": []
    },
    {
      "cell_type": "code",
      "source": [
        "def training(x1,x2, y, alpha, epochs):\n",
        "  theta_0=0\n",
        "  theta_1=0\n",
        "  theta_2=0\n",
        "  m=x1.size\n",
        "  cost_values=[]\n",
        "  theta_array=[theta_0,theta_1,theta_2]\n",
        "  for i in range(epochs):\n",
        "    theta_array=gradient_descent(theta_array,x1,x2,y,m,alpha)\n",
        "    loss=costfunction(theta_array,x1,x2, y, m)\n",
        "    cost_values.append(loss)\n",
        "\n",
        "\n",
        "  x=np.arange(epochs)\n",
        "  plt.plot(x,cost_values)\n",
        "  plt.show()\n",
        "  return theta_array\n"
      ],
      "metadata": {
        "id": "US_xb639K4jT"
      },
      "execution_count": null,
      "outputs": []
    },
    {
      "cell_type": "code",
      "source": [
        "alpha=0.01\n",
        "epochs=500"
      ],
      "metadata": {
        "id": "AO4JSzDWL4Ul"
      },
      "execution_count": null,
      "outputs": []
    },
    {
      "cell_type": "code",
      "source": [
        "theta_array=training(X2[:,0:1],X2[:,1:2],Y2,alpha,epochs)"
      ],
      "metadata": {
        "colab": {
          "base_uri": "https://localhost:8080/",
          "height": 445
        },
        "id": "uaU7zE1LLw7x",
        "outputId": "3e01c76b-e749-469d-853f-80eef246f90a"
      },
      "execution_count": null,
      "outputs": [
        {
          "output_type": "display_data",
          "data": {
            "text/plain": [
              "<Figure size 640x480 with 1 Axes>"
            ],
            "image/png": "[encoded data removed]"
          },
          "metadata": {}
        }
      ]
    },
    {
      "cell_type": "code",
      "source": [
        "theta_array"
      ],
      "metadata": {
        "colab": {
          "base_uri": "https://localhost:8080/"
        },
        "id": "2F6DV-GfR9y3",
        "outputId": "37ec2d01-cc00-4423-b5b6-f80fd8ba10d2"
      },
      "execution_count": null,
      "outputs": [
        {
          "output_type": "execute_result",
          "data": {
            "text/plain": [
              "[array([336891.27788331]), array([103774.01694557]), array([208.80691826])]"
            ]
          },
          "metadata": {},
          "execution_count": 15
        }
      ]
    },
    {
      "cell_type": "code",
      "source": [
        "hypothesis(theta_array,4,2100)"
      ],
      "metadata": {
        "colab": {
          "base_uri": "https://localhost:8080/"
        },
        "id": "4SPa1Pg6SBCP",
        "outputId": "0636d77f-84eb-4d4d-e499-6d18019ca803"
      },
      "execution_count": null,
      "outputs": [
        {
          "output_type": "execute_result",
          "data": {
            "text/plain": [
              "array([1190481.87401972])"
            ]
          },
          "metadata": {},
          "execution_count": 16
        }
      ]
    }
  ]
}